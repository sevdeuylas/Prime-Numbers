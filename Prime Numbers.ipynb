{
 "cells": [
  {
   "cell_type": "markdown",
   "metadata": {},
   "source": [
    "# Prime Numbers\n",
    "## Task : Print the prime numbers which are between 1 to entered limit number (n).\n",
    "\n",
    "## 1. You can use a nested for loop.\n",
    "## 2. Collect all these numbers into a list\n",
    "## The desired output for n=100 :\n",
    "## [2, 3, 5, 7, 11, 13, 17, 19, 23, 29, 31, 37, 41, 43, 47, 53, 59, 61, 67, 71, 73, 79, 83, 89, 97]\n"
   ]
  },
  {
   "cell_type": "code",
   "execution_count": 13,
   "metadata": {},
   "outputs": [
    {
     "name": "stdout",
     "output_type": "stream",
     "text": [
      "Please enter a number to check if it is Prime or not: 7\n",
      "[2, 3, 5]\n"
     ]
    }
   ],
   "source": [
    "num =int(input('Please enter a number to check if it is Prime or not: '))\n",
    "my_list = []\n",
    "for i in range(2, num):\n",
    "  for j in range(2, i):\n",
    "       if i % j == 0:\n",
    "        break\n",
    "  else:\n",
    "    my_list.append(i)\n",
    "print(my_list)\n"
   ]
  },
  {
   "cell_type": "code",
   "execution_count": null,
   "metadata": {},
   "outputs": [],
   "source": []
  }
 ],
 "metadata": {
  "kernelspec": {
   "display_name": "Python 3",
   "language": "python",
   "name": "python3"
  },
  "language_info": {
   "codemirror_mode": {
    "name": "ipython",
    "version": 3
   },
   "file_extension": ".py",
   "mimetype": "text/x-python",
   "name": "python",
   "nbconvert_exporter": "python",
   "pygments_lexer": "ipython3",
   "version": "3.7.3"
  }
 },
 "nbformat": 4,
 "nbformat_minor": 2
}
